{
  "nbformat": 4,
  "nbformat_minor": 0,
  "metadata": {
    "colab": {
      "provenance": []
    },
    "kernelspec": {
      "display_name": "Python 3",
      "language": "python",
      "name": "python3"
    },
    "language_info": {
      "codemirror_mode": {
        "name": "ipython",
        "version": 3
      },
      "file_extension": ".py",
      "mimetype": "text/x-python",
      "name": "python",
      "nbconvert_exporter": "python",
      "pygments_lexer": "ipython3",
      "version": "3.8.5"
    }
  },
  "cells": [
    {
      "cell_type": "code",
      "metadata": {
        "colab": {
          "base_uri": "https://localhost:8080/",
          "height": 530
        },
        "id": "Ef1N7vx71QI-",
        "scrolled": true,
        "outputId": "cf3b4a3f-5d2e-4cdd-cc81-ceb49e90ba95"
      },
      "source": [
        "import pandas as pd\n",
        "import numpy as num\n",
        "dataset = pd.read_csv('C:\\\\Users\\\\Pihan\\\\Desktop\\\\final-weather.csv')\n",
        "\n",
        "dataset.head()"
      ],
      "execution_count": null,
      "outputs": [
        {
          "data": {
            "text/html": [
              "<div>\n",
              "<style scoped>\n",
              "    .dataframe tbody tr th:only-of-type {\n",
              "        vertical-align: middle;\n",
              "    }\n",
              "\n",
              "    .dataframe tbody tr th {\n",
              "        vertical-align: top;\n",
              "    }\n",
              "\n",
              "    .dataframe thead th {\n",
              "        text-align: right;\n",
              "    }\n",
              "</style>\n",
              "<table border=\"1\" class=\"dataframe\">\n",
              "  <thead>\n",
              "    <tr style=\"text-align: right;\">\n",
              "      <th></th>\n",
              "      <th>YEAR</th>\n",
              "      <th>MO</th>\n",
              "      <th>DY</th>\n",
              "      <th>WS50M_MAX</th>\n",
              "      <th>WS50M_MIN</th>\n",
              "      <th>WS10M_MAX</th>\n",
              "      <th>WS10M_MIN</th>\n",
              "      <th>WS50M</th>\n",
              "      <th>WS10M</th>\n",
              "      <th>QV2M</th>\n",
              "      <th>RH2M</th>\n",
              "      <th>PRECTOTCORR</th>\n",
              "      <th>T2M_MAX</th>\n",
              "      <th>T2M_MIN</th>\n",
              "      <th>PS</th>\n",
              "      <th>T2M</th>\n",
              "      <th>ALLSKY_SFC_UV_INDEX</th>\n",
              "      <th>ALLSKY_SFC_UVB</th>\n",
              "      <th>ALLSKY_SFC_UVA</th>\n",
              "    </tr>\n",
              "  </thead>\n",
              "  <tbody>\n",
              "    <tr>\n",
              "      <th>0</th>\n",
              "      <td>2000</td>\n",
              "      <td>1</td>\n",
              "      <td>1</td>\n",
              "      <td>5.05</td>\n",
              "      <td>2.85</td>\n",
              "      <td>4.04</td>\n",
              "      <td>2.55</td>\n",
              "      <td>4.30</td>\n",
              "      <td>3.23</td>\n",
              "      <td>8.97</td>\n",
              "      <td>73.88</td>\n",
              "      <td>0.0</td>\n",
              "      <td>24.21</td>\n",
              "      <td>12.47</td>\n",
              "      <td>100.94</td>\n",
              "      <td>17.57</td>\n",
              "      <td>NaN</td>\n",
              "      <td>NaN</td>\n",
              "      <td>NaN</td>\n",
              "    </tr>\n",
              "    <tr>\n",
              "      <th>1</th>\n",
              "      <td>2000</td>\n",
              "      <td>1</td>\n",
              "      <td>2</td>\n",
              "      <td>4.91</td>\n",
              "      <td>2.82</td>\n",
              "      <td>3.88</td>\n",
              "      <td>2.12</td>\n",
              "      <td>4.07</td>\n",
              "      <td>3.09</td>\n",
              "      <td>8.42</td>\n",
              "      <td>69.69</td>\n",
              "      <td>0.0</td>\n",
              "      <td>24.17</td>\n",
              "      <td>11.67</td>\n",
              "      <td>100.90</td>\n",
              "      <td>17.44</td>\n",
              "      <td>NaN</td>\n",
              "      <td>NaN</td>\n",
              "      <td>NaN</td>\n",
              "    </tr>\n",
              "    <tr>\n",
              "      <th>2</th>\n",
              "      <td>2000</td>\n",
              "      <td>1</td>\n",
              "      <td>3</td>\n",
              "      <td>4.27</td>\n",
              "      <td>1.88</td>\n",
              "      <td>3.23</td>\n",
              "      <td>1.69</td>\n",
              "      <td>3.61</td>\n",
              "      <td>2.77</td>\n",
              "      <td>8.42</td>\n",
              "      <td>70.62</td>\n",
              "      <td>0.0</td>\n",
              "      <td>23.97</td>\n",
              "      <td>12.01</td>\n",
              "      <td>100.79</td>\n",
              "      <td>17.32</td>\n",
              "      <td>NaN</td>\n",
              "      <td>NaN</td>\n",
              "      <td>NaN</td>\n",
              "    </tr>\n",
              "    <tr>\n",
              "      <th>3</th>\n",
              "      <td>2000</td>\n",
              "      <td>1</td>\n",
              "      <td>4</td>\n",
              "      <td>4.47</td>\n",
              "      <td>3.01</td>\n",
              "      <td>3.59</td>\n",
              "      <td>2.30</td>\n",
              "      <td>3.81</td>\n",
              "      <td>2.91</td>\n",
              "      <td>8.54</td>\n",
              "      <td>72.31</td>\n",
              "      <td>0.0</td>\n",
              "      <td>23.87</td>\n",
              "      <td>11.92</td>\n",
              "      <td>100.83</td>\n",
              "      <td>17.27</td>\n",
              "      <td>NaN</td>\n",
              "      <td>NaN</td>\n",
              "      <td>NaN</td>\n",
              "    </tr>\n",
              "    <tr>\n",
              "      <th>4</th>\n",
              "      <td>2000</td>\n",
              "      <td>1</td>\n",
              "      <td>5</td>\n",
              "      <td>4.29</td>\n",
              "      <td>2.35</td>\n",
              "      <td>2.98</td>\n",
              "      <td>1.99</td>\n",
              "      <td>3.16</td>\n",
              "      <td>2.45</td>\n",
              "      <td>8.42</td>\n",
              "      <td>71.69</td>\n",
              "      <td>0.0</td>\n",
              "      <td>23.69</td>\n",
              "      <td>12.12</td>\n",
              "      <td>100.89</td>\n",
              "      <td>17.27</td>\n",
              "      <td>NaN</td>\n",
              "      <td>NaN</td>\n",
              "      <td>NaN</td>\n",
              "    </tr>\n",
              "  </tbody>\n",
              "</table>\n",
              "</div>"
            ],
            "text/plain": [
              "   YEAR  MO  DY  WS50M_MAX  WS50M_MIN  WS10M_MAX  WS10M_MIN  WS50M  WS10M  \\\n",
              "0  2000   1   1       5.05       2.85       4.04       2.55   4.30   3.23   \n",
              "1  2000   1   2       4.91       2.82       3.88       2.12   4.07   3.09   \n",
              "2  2000   1   3       4.27       1.88       3.23       1.69   3.61   2.77   \n",
              "3  2000   1   4       4.47       3.01       3.59       2.30   3.81   2.91   \n",
              "4  2000   1   5       4.29       2.35       2.98       1.99   3.16   2.45   \n",
              "\n",
              "   QV2M   RH2M  PRECTOTCORR  T2M_MAX  T2M_MIN      PS    T2M  \\\n",
              "0  8.97  73.88          0.0    24.21    12.47  100.94  17.57   \n",
              "1  8.42  69.69          0.0    24.17    11.67  100.90  17.44   \n",
              "2  8.42  70.62          0.0    23.97    12.01  100.79  17.32   \n",
              "3  8.54  72.31          0.0    23.87    11.92  100.83  17.27   \n",
              "4  8.42  71.69          0.0    23.69    12.12  100.89  17.27   \n",
              "\n",
              "   ALLSKY_SFC_UV_INDEX  ALLSKY_SFC_UVB  ALLSKY_SFC_UVA  \n",
              "0                  NaN             NaN             NaN  \n",
              "1                  NaN             NaN             NaN  \n",
              "2                  NaN             NaN             NaN  \n",
              "3                  NaN             NaN             NaN  \n",
              "4                  NaN             NaN             NaN  "
            ]
          },
          "execution_count": 3,
          "metadata": {},
          "output_type": "execute_result"
        }
      ]
    },
    {
      "cell_type": "code",
      "metadata": {
        "id": "f6WkQPdN1QJI"
      },
      "source": [
        "# Dropping year month date\n",
        "dataset=dataset.drop(['YEAR'],axis = 1)\n",
        "dataset=dataset.drop(['MO'],axis = 1)\n",
        "dataset=dataset.drop(['DY'],axis = 1)"
      ],
      "execution_count": null,
      "outputs": []
    },
    {
      "cell_type": "code",
      "metadata": {
        "colab": {
          "base_uri": "https://localhost:8080/"
        },
        "id": "MxabPRbR1QJJ",
        "outputId": "0363e412-1e4e-4a74-e287-d0b37dfcf3b4"
      },
      "source": [
        "dataset.info()"
      ],
      "execution_count": null,
      "outputs": [
        {
          "name": "stdout",
          "output_type": "stream",
          "text": [
            "<class 'pandas.core.frame.DataFrame'>\n",
            "RangeIndex: 7671 entries, 0 to 7670\n",
            "Data columns (total 16 columns):\n",
            " #   Column               Non-Null Count  Dtype  \n",
            "---  ------               --------------  -----  \n",
            " 0   WS50M_MAX            7671 non-null   float64\n",
            " 1   WS50M_MIN            7671 non-null   float64\n",
            " 2   WS10M_MAX            7671 non-null   float64\n",
            " 3   WS10M_MIN            7671 non-null   float64\n",
            " 4   WS50M                7671 non-null   float64\n",
            " 5   WS10M                7671 non-null   float64\n",
            " 6   QV2M                 7671 non-null   float64\n",
            " 7   RH2M                 7671 non-null   float64\n",
            " 8   PRECTOTCORR          7671 non-null   float64\n",
            " 9   T2M_MAX              7671 non-null   float64\n",
            " 10  T2M_MIN              7671 non-null   float64\n",
            " 11  PS                   7671 non-null   float64\n",
            " 12  T2M                  7671 non-null   float64\n",
            " 13  ALLSKY_SFC_UV_INDEX  7305 non-null   float64\n",
            " 14  ALLSKY_SFC_UVB       7305 non-null   float64\n",
            " 15  ALLSKY_SFC_UVA       7305 non-null   float64\n",
            "dtypes: float64(16)\n",
            "memory usage: 959.0 KB\n"
          ]
        }
      ]
    },
    {
      "cell_type": "code",
      "metadata": {
        "colab": {
          "base_uri": "https://localhost:8080/"
        },
        "id": "PC9kAr471QJP",
        "scrolled": true,
        "outputId": "f7b2d3fe-09a7-4550-d654-c37dc1bdae27"
      },
      "source": [
        "dataset.isnull().sum()"
      ],
      "execution_count": null,
      "outputs": [
        {
          "data": {
            "text/plain": [
              "WS50M_MAX                0\n",
              "WS50M_MIN                0\n",
              "WS10M_MAX                0\n",
              "WS10M_MIN                0\n",
              "WS50M                    0\n",
              "WS10M                    0\n",
              "QV2M                     0\n",
              "RH2M                     0\n",
              "PRECTOTCORR              0\n",
              "T2M_MAX                  0\n",
              "T2M_MIN                  0\n",
              "PS                       0\n",
              "T2M                      0\n",
              "ALLSKY_SFC_UV_INDEX    366\n",
              "ALLSKY_SFC_UVB         366\n",
              "ALLSKY_SFC_UVA         366\n",
              "dtype: int64"
            ]
          },
          "execution_count": 6,
          "metadata": {},
          "output_type": "execute_result"
        }
      ]
    },
    {
      "cell_type": "code",
      "metadata": {
        "id": "9RLj_qRq1QJP",
        "outputId": "663b3fa6-f19b-48a5-9d89-d7939c6d9f4d"
      },
      "source": [
        "# dataset.info()\n",
        "dataset.head()"
      ],
      "execution_count": null,
      "outputs": [
        {
          "data": {
            "text/html": [
              "<div>\n",
              "<style scoped>\n",
              "    .dataframe tbody tr th:only-of-type {\n",
              "        vertical-align: middle;\n",
              "    }\n",
              "\n",
              "    .dataframe tbody tr th {\n",
              "        vertical-align: top;\n",
              "    }\n",
              "\n",
              "    .dataframe thead th {\n",
              "        text-align: right;\n",
              "    }\n",
              "</style>\n",
              "<table border=\"1\" class=\"dataframe\">\n",
              "  <thead>\n",
              "    <tr style=\"text-align: right;\">\n",
              "      <th></th>\n",
              "      <th>WS50M_MAX</th>\n",
              "      <th>WS50M_MIN</th>\n",
              "      <th>WS10M_MAX</th>\n",
              "      <th>WS10M_MIN</th>\n",
              "      <th>WS50M</th>\n",
              "      <th>WS10M</th>\n",
              "      <th>QV2M</th>\n",
              "      <th>RH2M</th>\n",
              "      <th>PRECTOTCORR</th>\n",
              "      <th>T2M_MAX</th>\n",
              "      <th>T2M_MIN</th>\n",
              "      <th>PS</th>\n",
              "      <th>T2M</th>\n",
              "      <th>ALLSKY_SFC_UV_INDEX</th>\n",
              "      <th>ALLSKY_SFC_UVB</th>\n",
              "      <th>ALLSKY_SFC_UVA</th>\n",
              "    </tr>\n",
              "  </thead>\n",
              "  <tbody>\n",
              "    <tr>\n",
              "      <th>0</th>\n",
              "      <td>5.05</td>\n",
              "      <td>2.85</td>\n",
              "      <td>4.04</td>\n",
              "      <td>2.55</td>\n",
              "      <td>4.30</td>\n",
              "      <td>3.23</td>\n",
              "      <td>8.97</td>\n",
              "      <td>73.88</td>\n",
              "      <td>0.0</td>\n",
              "      <td>24.21</td>\n",
              "      <td>12.47</td>\n",
              "      <td>100.94</td>\n",
              "      <td>17.57</td>\n",
              "      <td>NaN</td>\n",
              "      <td>NaN</td>\n",
              "      <td>NaN</td>\n",
              "    </tr>\n",
              "    <tr>\n",
              "      <th>1</th>\n",
              "      <td>4.91</td>\n",
              "      <td>2.82</td>\n",
              "      <td>3.88</td>\n",
              "      <td>2.12</td>\n",
              "      <td>4.07</td>\n",
              "      <td>3.09</td>\n",
              "      <td>8.42</td>\n",
              "      <td>69.69</td>\n",
              "      <td>0.0</td>\n",
              "      <td>24.17</td>\n",
              "      <td>11.67</td>\n",
              "      <td>100.90</td>\n",
              "      <td>17.44</td>\n",
              "      <td>NaN</td>\n",
              "      <td>NaN</td>\n",
              "      <td>NaN</td>\n",
              "    </tr>\n",
              "    <tr>\n",
              "      <th>2</th>\n",
              "      <td>4.27</td>\n",
              "      <td>1.88</td>\n",
              "      <td>3.23</td>\n",
              "      <td>1.69</td>\n",
              "      <td>3.61</td>\n",
              "      <td>2.77</td>\n",
              "      <td>8.42</td>\n",
              "      <td>70.62</td>\n",
              "      <td>0.0</td>\n",
              "      <td>23.97</td>\n",
              "      <td>12.01</td>\n",
              "      <td>100.79</td>\n",
              "      <td>17.32</td>\n",
              "      <td>NaN</td>\n",
              "      <td>NaN</td>\n",
              "      <td>NaN</td>\n",
              "    </tr>\n",
              "    <tr>\n",
              "      <th>3</th>\n",
              "      <td>4.47</td>\n",
              "      <td>3.01</td>\n",
              "      <td>3.59</td>\n",
              "      <td>2.30</td>\n",
              "      <td>3.81</td>\n",
              "      <td>2.91</td>\n",
              "      <td>8.54</td>\n",
              "      <td>72.31</td>\n",
              "      <td>0.0</td>\n",
              "      <td>23.87</td>\n",
              "      <td>11.92</td>\n",
              "      <td>100.83</td>\n",
              "      <td>17.27</td>\n",
              "      <td>NaN</td>\n",
              "      <td>NaN</td>\n",
              "      <td>NaN</td>\n",
              "    </tr>\n",
              "    <tr>\n",
              "      <th>4</th>\n",
              "      <td>4.29</td>\n",
              "      <td>2.35</td>\n",
              "      <td>2.98</td>\n",
              "      <td>1.99</td>\n",
              "      <td>3.16</td>\n",
              "      <td>2.45</td>\n",
              "      <td>8.42</td>\n",
              "      <td>71.69</td>\n",
              "      <td>0.0</td>\n",
              "      <td>23.69</td>\n",
              "      <td>12.12</td>\n",
              "      <td>100.89</td>\n",
              "      <td>17.27</td>\n",
              "      <td>NaN</td>\n",
              "      <td>NaN</td>\n",
              "      <td>NaN</td>\n",
              "    </tr>\n",
              "  </tbody>\n",
              "</table>\n",
              "</div>"
            ],
            "text/plain": [
              "   WS50M_MAX  WS50M_MIN  WS10M_MAX  WS10M_MIN  WS50M  WS10M  QV2M   RH2M  \\\n",
              "0       5.05       2.85       4.04       2.55   4.30   3.23  8.97  73.88   \n",
              "1       4.91       2.82       3.88       2.12   4.07   3.09  8.42  69.69   \n",
              "2       4.27       1.88       3.23       1.69   3.61   2.77  8.42  70.62   \n",
              "3       4.47       3.01       3.59       2.30   3.81   2.91  8.54  72.31   \n",
              "4       4.29       2.35       2.98       1.99   3.16   2.45  8.42  71.69   \n",
              "\n",
              "   PRECTOTCORR  T2M_MAX  T2M_MIN      PS    T2M  ALLSKY_SFC_UV_INDEX  \\\n",
              "0          0.0    24.21    12.47  100.94  17.57                  NaN   \n",
              "1          0.0    24.17    11.67  100.90  17.44                  NaN   \n",
              "2          0.0    23.97    12.01  100.79  17.32                  NaN   \n",
              "3          0.0    23.87    11.92  100.83  17.27                  NaN   \n",
              "4          0.0    23.69    12.12  100.89  17.27                  NaN   \n",
              "\n",
              "   ALLSKY_SFC_UVB  ALLSKY_SFC_UVA  \n",
              "0             NaN             NaN  \n",
              "1             NaN             NaN  \n",
              "2             NaN             NaN  \n",
              "3             NaN             NaN  \n",
              "4             NaN             NaN  "
            ]
          },
          "execution_count": 7,
          "metadata": {},
          "output_type": "execute_result"
        }
      ]
    },
    {
      "cell_type": "code",
      "metadata": {
        "id": "rzEZXpgq1QJS"
      },
      "source": [
        "#imputing null Values with mean\n",
        "from sklearn.impute import SimpleImputer\n",
        "impute = SimpleImputer(missing_values=num.nan, strategy='mean')\n",
        "impute.fit(dataset[['ALLSKY_SFC_UV_INDEX']])\n",
        "dataset['ALLSKY_SFC_UV_INDEX']=impute.transform(dataset[['ALLSKY_SFC_UV_INDEX']])"
      ],
      "execution_count": null,
      "outputs": []
    },
    {
      "cell_type": "code",
      "metadata": {
        "id": "G-y9OyYM1QJS"
      },
      "source": [
        "impute.fit(dataset[['ALLSKY_SFC_UVB']])\n",
        "dataset['ALLSKY_SFC_UVB']=impute.transform(dataset[['ALLSKY_SFC_UVB']])\n",
        "impute.fit(dataset[['ALLSKY_SFC_UVA']])\n",
        "dataset['ALLSKY_SFC_UVA']=impute.transform(dataset[['ALLSKY_SFC_UVA']])\n"
      ],
      "execution_count": null,
      "outputs": []
    },
    {
      "cell_type": "code",
      "metadata": {
        "colab": {
          "base_uri": "https://localhost:8080/"
        },
        "id": "cIQdvn501QJX",
        "scrolled": true,
        "outputId": "e266e4ab-7eba-4d6e-e7fe-ac0e92c6fd34"
      },
      "source": [
        "dataset.isnull().sum()"
      ],
      "execution_count": null,
      "outputs": [
        {
          "data": {
            "text/plain": [
              "WS50M_MAX              0\n",
              "WS50M_MIN              0\n",
              "WS10M_MAX              0\n",
              "WS10M_MIN              0\n",
              "WS50M                  0\n",
              "WS10M                  0\n",
              "QV2M                   0\n",
              "RH2M                   0\n",
              "PRECTOTCORR            0\n",
              "T2M_MAX                0\n",
              "T2M_MIN                0\n",
              "PS                     0\n",
              "T2M                    0\n",
              "ALLSKY_SFC_UV_INDEX    0\n",
              "ALLSKY_SFC_UVB         0\n",
              "ALLSKY_SFC_UVA         0\n",
              "dtype: int64"
            ]
          },
          "execution_count": 10,
          "metadata": {},
          "output_type": "execute_result"
        }
      ]
    },
    {
      "cell_type": "code",
      "metadata": {
        "id": "6THzxhVNS4HQ",
        "outputId": "52ef3a27-4e29-4e6f-9472-94d0298509ae"
      },
      "source": [
        "list(dataset.keys())"
      ],
      "execution_count": null,
      "outputs": [
        {
          "data": {
            "text/plain": [
              "['WS50M_MAX',\n",
              " 'WS50M_MIN',\n",
              " 'WS10M_MAX',\n",
              " 'WS10M_MIN',\n",
              " 'WS50M',\n",
              " 'WS10M',\n",
              " 'QV2M',\n",
              " 'RH2M',\n",
              " 'PRECTOTCORR',\n",
              " 'T2M_MAX',\n",
              " 'T2M_MIN',\n",
              " 'PS',\n",
              " 'T2M',\n",
              " 'ALLSKY_SFC_UV_INDEX',\n",
              " 'ALLSKY_SFC_UVB',\n",
              " 'ALLSKY_SFC_UVA']"
            ]
          },
          "execution_count": 11,
          "metadata": {},
          "output_type": "execute_result"
        }
      ]
    },
    {
      "cell_type": "code",
      "metadata": {
        "id": "1UM9juFM1QJY",
        "outputId": "6912f969-c01f-4bb5-fa9e-5a840275bd8a"
      },
      "source": [
        "#Scaling data except the encoded features\n",
        "from sklearn.preprocessing import MinMaxScaler\n",
        "myscale = MinMaxScaler()\n",
        "dataset[['WS50M_MAX', 'WS50M_MIN', 'WS10M_MAX', 'WS10M_MIN', 'WS50M', 'WS10M', 'QV2M', 'RH2M', 'PRECTOTCORR',  'PS',  'ALLSKY_SFC_UV_INDEX', 'ALLSKY_SFC_UVB', 'ALLSKY_SFC_UVA']] =myscale.fit_transform(dataset[['WS50M_MAX', 'WS50M_MIN', 'WS10M_MAX', 'WS10M_MIN', 'WS50M', 'WS10M', 'QV2M', 'RH2M', 'PRECTOTCORR',  'PS',  'ALLSKY_SFC_UV_INDEX', 'ALLSKY_SFC_UVB', 'ALLSKY_SFC_UVA']])\n",
        "dataset.head()"
      ],
      "execution_count": null,
      "outputs": [
        {
          "data": {
            "text/html": [
              "<div>\n",
              "<style scoped>\n",
              "    .dataframe tbody tr th:only-of-type {\n",
              "        vertical-align: middle;\n",
              "    }\n",
              "\n",
              "    .dataframe tbody tr th {\n",
              "        vertical-align: top;\n",
              "    }\n",
              "\n",
              "    .dataframe thead th {\n",
              "        text-align: right;\n",
              "    }\n",
              "</style>\n",
              "<table border=\"1\" class=\"dataframe\">\n",
              "  <thead>\n",
              "    <tr style=\"text-align: right;\">\n",
              "      <th></th>\n",
              "      <th>WS50M_MAX</th>\n",
              "      <th>WS50M_MIN</th>\n",
              "      <th>WS10M_MAX</th>\n",
              "      <th>WS10M_MIN</th>\n",
              "      <th>WS50M</th>\n",
              "      <th>WS10M</th>\n",
              "      <th>QV2M</th>\n",
              "      <th>RH2M</th>\n",
              "      <th>PRECTOTCORR</th>\n",
              "      <th>T2M_MAX</th>\n",
              "      <th>T2M_MIN</th>\n",
              "      <th>PS</th>\n",
              "      <th>T2M</th>\n",
              "      <th>ALLSKY_SFC_UV_INDEX</th>\n",
              "      <th>ALLSKY_SFC_UVB</th>\n",
              "      <th>ALLSKY_SFC_UVA</th>\n",
              "    </tr>\n",
              "  </thead>\n",
              "  <tbody>\n",
              "    <tr>\n",
              "      <th>0</th>\n",
              "      <td>0.194695</td>\n",
              "      <td>0.275996</td>\n",
              "      <td>0.188955</td>\n",
              "      <td>0.311193</td>\n",
              "      <td>0.248421</td>\n",
              "      <td>0.224048</td>\n",
              "      <td>0.202703</td>\n",
              "      <td>0.662668</td>\n",
              "      <td>0.0</td>\n",
              "      <td>0.292400</td>\n",
              "      <td>0.215443</td>\n",
              "      <td>0.794020</td>\n",
              "      <td>17.57</td>\n",
              "      <td>0.005681</td>\n",
              "      <td>0.455031</td>\n",
              "      <td>0.56915</td>\n",
              "    </tr>\n",
              "    <tr>\n",
              "      <th>1</th>\n",
              "      <td>0.187268</td>\n",
              "      <td>0.273081</td>\n",
              "      <td>0.178310</td>\n",
              "      <td>0.258303</td>\n",
              "      <td>0.232281</td>\n",
              "      <td>0.211938</td>\n",
              "      <td>0.171734</td>\n",
              "      <td>0.594748</td>\n",
              "      <td>0.0</td>\n",
              "      <td>0.290547</td>\n",
              "      <td>0.177312</td>\n",
              "      <td>0.780731</td>\n",
              "      <td>17.44</td>\n",
              "      <td>0.005681</td>\n",
              "      <td>0.455031</td>\n",
              "      <td>0.56915</td>\n",
              "    </tr>\n",
              "    <tr>\n",
              "      <th>2</th>\n",
              "      <td>0.153316</td>\n",
              "      <td>0.181730</td>\n",
              "      <td>0.135063</td>\n",
              "      <td>0.205412</td>\n",
              "      <td>0.200000</td>\n",
              "      <td>0.184256</td>\n",
              "      <td>0.171734</td>\n",
              "      <td>0.609823</td>\n",
              "      <td>0.0</td>\n",
              "      <td>0.281279</td>\n",
              "      <td>0.193518</td>\n",
              "      <td>0.744186</td>\n",
              "      <td>17.32</td>\n",
              "      <td>0.005681</td>\n",
              "      <td>0.455031</td>\n",
              "      <td>0.56915</td>\n",
              "    </tr>\n",
              "    <tr>\n",
              "      <th>3</th>\n",
              "      <td>0.163926</td>\n",
              "      <td>0.291545</td>\n",
              "      <td>0.159015</td>\n",
              "      <td>0.280443</td>\n",
              "      <td>0.214035</td>\n",
              "      <td>0.196367</td>\n",
              "      <td>0.178491</td>\n",
              "      <td>0.637218</td>\n",
              "      <td>0.0</td>\n",
              "      <td>0.276645</td>\n",
              "      <td>0.189228</td>\n",
              "      <td>0.757475</td>\n",
              "      <td>17.27</td>\n",
              "      <td>0.005681</td>\n",
              "      <td>0.455031</td>\n",
              "      <td>0.56915</td>\n",
              "    </tr>\n",
              "    <tr>\n",
              "      <th>4</th>\n",
              "      <td>0.154377</td>\n",
              "      <td>0.227405</td>\n",
              "      <td>0.118430</td>\n",
              "      <td>0.242312</td>\n",
              "      <td>0.168421</td>\n",
              "      <td>0.156574</td>\n",
              "      <td>0.171734</td>\n",
              "      <td>0.627168</td>\n",
              "      <td>0.0</td>\n",
              "      <td>0.268304</td>\n",
              "      <td>0.198761</td>\n",
              "      <td>0.777409</td>\n",
              "      <td>17.27</td>\n",
              "      <td>0.005681</td>\n",
              "      <td>0.455031</td>\n",
              "      <td>0.56915</td>\n",
              "    </tr>\n",
              "  </tbody>\n",
              "</table>\n",
              "</div>"
            ],
            "text/plain": [
              "   WS50M_MAX  WS50M_MIN  WS10M_MAX  WS10M_MIN     WS50M     WS10M      QV2M  \\\n",
              "0   0.194695   0.275996   0.188955   0.311193  0.248421  0.224048  0.202703   \n",
              "1   0.187268   0.273081   0.178310   0.258303  0.232281  0.211938  0.171734   \n",
              "2   0.153316   0.181730   0.135063   0.205412  0.200000  0.184256  0.171734   \n",
              "3   0.163926   0.291545   0.159015   0.280443  0.214035  0.196367  0.178491   \n",
              "4   0.154377   0.227405   0.118430   0.242312  0.168421  0.156574  0.171734   \n",
              "\n",
              "       RH2M  PRECTOTCORR   T2M_MAX   T2M_MIN        PS    T2M  \\\n",
              "0  0.662668          0.0  0.292400  0.215443  0.794020  17.57   \n",
              "1  0.594748          0.0  0.290547  0.177312  0.780731  17.44   \n",
              "2  0.609823          0.0  0.281279  0.193518  0.744186  17.32   \n",
              "3  0.637218          0.0  0.276645  0.189228  0.757475  17.27   \n",
              "4  0.627168          0.0  0.268304  0.198761  0.777409  17.27   \n",
              "\n",
              "   ALLSKY_SFC_UV_INDEX  ALLSKY_SFC_UVB  ALLSKY_SFC_UVA  \n",
              "0             0.005681        0.455031         0.56915  \n",
              "1             0.005681        0.455031         0.56915  \n",
              "2             0.005681        0.455031         0.56915  \n",
              "3             0.005681        0.455031         0.56915  \n",
              "4             0.005681        0.455031         0.56915  "
            ]
          },
          "execution_count": 12,
          "metadata": {},
          "output_type": "execute_result"
        }
      ]
    },
    {
      "cell_type": "code",
      "metadata": {
        "id": "kMqd-rWL1QJY",
        "outputId": "d4a40a56-acc6-495b-fdb1-296c96edc28d"
      },
      "source": [
        "#train test spliting\n",
        "from sklearn.model_selection import train_test_split\n",
        "X=dataset.drop(['T2M','T2M_MIN','T2M_MAX'], axis = 1)\n",
        "ymax=dataset['T2M'].astype(int)\n",
        "\n",
        "\n",
        "ymax.unique()"
      ],
      "execution_count": null,
      "outputs": [
        {
          "data": {
            "text/plain": [
              "array([17, 16, 18, 19, 20, 21, 22, 23, 24, 25, 26, 27, 28, 29, 31, 30, 15,\n",
              "       14, 32, 13])"
            ]
          },
          "execution_count": 13,
          "metadata": {},
          "output_type": "execute_result"
        }
      ]
    },
    {
      "cell_type": "code",
      "metadata": {
        "id": "ddHenFmRS4HU"
      },
      "source": [
        "#Categorizing Target Variable\n",
        "for i in range(len(ymax)):\n",
        "    if 13>=ymax[i]>10:\n",
        "        ymax[i]=1\n",
        "    elif 16>=ymax[i]>13:\n",
        "        ymax[i]=2\n",
        "    elif 19>=ymax[i]>16:\n",
        "        ymax[i]=3\n",
        "    elif 21>=ymax[i]>19:\n",
        "        ymax[i]=4\n",
        "    elif 23>=ymax[i]>21:\n",
        "        ymax[i]=5\n",
        "    elif 26>=ymax[i]>23:\n",
        "        ymax[i]=6\n",
        "    elif 29>=ymax[i]>26:\n",
        "        ymax[i]=7\n",
        "    elif 32>=ymax[i]>29:\n",
        "        ymax[i]=8\n",
        "    "
      ],
      "execution_count": null,
      "outputs": []
    },
    {
      "cell_type": "code",
      "metadata": {
        "id": "dURJRSj4S4HU",
        "outputId": "441e7ba9-3ab0-493c-fb98-966bafc2de64"
      },
      "source": [
        "\n",
        "ymax.unique()"
      ],
      "execution_count": null,
      "outputs": [
        {
          "data": {
            "text/plain": [
              "array([3, 2, 4, 5, 6, 7, 8, 1])"
            ]
          },
          "execution_count": 15,
          "metadata": {},
          "output_type": "execute_result"
        }
      ]
    },
    {
      "cell_type": "code",
      "metadata": {
        "id": "1thRi5YVS4HV"
      },
      "source": [
        "#Spliting 80:20 Train Test\n",
        "X_train, X_test, y_train, y_test = train_test_split(X, ymax, test_size=0.2,random_state=24)"
      ],
      "execution_count": null,
      "outputs": []
    },
    {
      "cell_type": "code",
      "metadata": {
        "id": "ZunMrIiI1QJl"
      },
      "source": [
        "from sklearn.ensemble import GradientBoostingClassifier\n",
        "from sklearn.tree import DecisionTreeClassifier"
      ],
      "execution_count": null,
      "outputs": []
    },
    {
      "cell_type": "code",
      "metadata": {
        "id": "Q-XcKPBb1QJl"
      },
      "source": [
        "import joblib\n",
        "from  sklearn.utils import parallel_backend \n",
        "gboost = GradientBoostingClassifier(learning_rate=.1, n_estimators=500,max_depth=5 )"
      ],
      "execution_count": null,
      "outputs": []
    },
    {
      "cell_type": "code",
      "metadata": {
        "id": "2qfWEDxo1QJl"
      },
      "source": [
        "gboost.fit(X_train, y_train)\n",
        "gboost_pred = gboost.predict(X_test)"
      ],
      "execution_count": null,
      "outputs": []
    },
    {
      "cell_type": "code",
      "metadata": {
        "id": "iWpvTzgd1QJm",
        "outputId": "103c72d0-88a3-410f-c279-48cc414f027e"
      },
      "source": [
        "from sklearn.metrics import accuracy_score\n",
        "gboost_acc=accuracy_score(y_test, gboost_pred)\n",
        "print(gboost_acc)"
      ],
      "execution_count": null,
      "outputs": [
        {
          "name": "stdout",
          "output_type": "stream",
          "text": [
            "0.9296416938110749\n"
          ]
        }
      ]
    },
    {
      "cell_type": "code",
      "metadata": {
        "id": "3BmG36AOS4HX",
        "outputId": "d8b130cf-8bff-4c1a-8a93-5c4e703ba8b3"
      },
      "source": [
        "print(classification_report(y_test, gboost_pred))"
      ],
      "execution_count": null,
      "outputs": [
        {
          "name": "stdout",
          "output_type": "stream",
          "text": [
            "              precision    recall  f1-score   support\n",
            "\n",
            "           1       1.00      0.50      0.67         2\n",
            "           2       0.91      0.91      0.91        33\n",
            "           3       0.93      0.95      0.94       170\n",
            "           4       0.89      0.90      0.90       134\n",
            "           5       0.90      0.85      0.88       136\n",
            "           6       0.89      0.90      0.89       251\n",
            "           7       0.96      0.97      0.97       756\n",
            "           8       0.92      0.68      0.78        53\n",
            "\n",
            "    accuracy                           0.93      1535\n",
            "   macro avg       0.92      0.83      0.87      1535\n",
            "weighted avg       0.93      0.93      0.93      1535\n",
            "\n"
          ]
        }
      ]
    },
    {
      "cell_type": "code",
      "metadata": {
        "id": "xbZmHSGES4HX",
        "outputId": "5c2c7a9c-627f-46a1-98fc-b751b8f09026"
      },
      "source": [
        "from sklearn.metrics import confusion_matrix\n",
        "import seaborn as sns\n",
        "from sklearn.metrics import classification_report\n",
        "Ypred = gboost_pred\n",
        "label=['1', '2','3','4', '5','6','7','8']\n",
        "Ytrue = y_test \n",
        "cm = confusion_matrix(Ytrue, Ypred)\n",
        "plt.figure(figsize=(12, 12))\n",
        "plt.title(\"Confusion Matrix for Gradient Boosting\")\n",
        "ax = sns.heatmap(cm, cmap=\"mako\", fmt=\".01f\",annot_kws={'size':16}, annot=True, square=True, xticklabels=label, yticklabels=label)\n",
        "ax.set_ylabel('Actual', fontsize=20)\n",
        "ax.set_xlabel('Predicted', fontsize=20)"
      ],
      "execution_count": null,
      "outputs": [
        {
          "data": {
            "text/plain": [
              "Text(0.5, 145.31999999999996, 'Predicted')"
            ]
          },
          "execution_count": 64,
          "metadata": {},
          "output_type": "execute_result"
        },
        {
          "data": {
            "image/png": "[encoded data removed]",
            "text/plain": [
              "<Figure size 864x864 with 2 Axes>"
            ]
          },
          "metadata": {
            "needs_background": "light"
          },
          "output_type": "display_data"
        }
      ]
    },
    {
      "cell_type": "code",
      "source": [],
      "metadata": {
        "id": "s1mJTf113OI0"
      },
      "execution_count": null,
      "outputs": []
    },
    {
      "cell_type": "code",
      "metadata": {
        "colab": {
          "base_uri": "https://localhost:8080/"
        },
        "id": "8S_yXqO71QJn",
        "outputId": "8203879d-9c11-4489-9879-b89ad4c34c3d"
      },
      "source": [
        "#AdaBoostClassifier\n",
        "from sklearn.ensemble import RandomForestClassifier\n",
        "from sklearn.tree import DecisionTreeClassifier\n",
        "randomf = RandomForestClassifier(n_jobs=-1)\n",
        "dtree = DecisionTreeClassifier( criterion='entropy')\n",
        "from sklearn.ensemble import AdaBoostClassifier\n",
        "ab = AdaBoostClassifier(randomf, n_estimators=500000, learning_rate=.5)\n",
        "ab.fit(X_train, y_train)\n",
        "ab_pred = ab.predict(X_test)\n",
        "ab_acc=accuracy_score(y_test, ab_pred)\n",
        "print(ab_acc)"
      ],
      "execution_count": null,
      "outputs": [
        {
          "name": "stdout",
          "output_type": "stream",
          "text": [
            "0.8306188925081434\n"
          ]
        }
      ]
    },
    {
      "cell_type": "code",
      "metadata": {
        "id": "7agard9nS4Ha",
        "outputId": "357796d6-2bb5-4545-bfad-e9803fe1b851"
      },
      "source": [
        "print(classification_report(y_test, ab_pred))"
      ],
      "execution_count": null,
      "outputs": [
        {
          "name": "stdout",
          "output_type": "stream",
          "text": [
            "              precision    recall  f1-score   support\n",
            "\n",
            "           1       0.00      0.00      0.00         2\n",
            "           2       0.89      0.48      0.63        33\n",
            "           3       0.79      0.91      0.84       170\n",
            "           4       0.74      0.74      0.74       134\n",
            "           5       0.81      0.57      0.67       136\n",
            "           6       0.71      0.75      0.73       251\n",
            "           7       0.90      0.95      0.92       756\n",
            "           8       0.85      0.43      0.58        53\n",
            "\n",
            "    accuracy                           0.83      1535\n",
            "   macro avg       0.71      0.60      0.64      1535\n",
            "weighted avg       0.83      0.83      0.82      1535\n",
            "\n"
          ]
        },
        {
          "name": "stderr",
          "output_type": "stream",
          "text": [
            "I:\\Apps on HDD\\anaconda3\\lib\\site-packages\\sklearn\\metrics\\_classification.py:1221: UndefinedMetricWarning: Precision and F-score are ill-defined and being set to 0.0 in labels with no predicted samples. Use `zero_division` parameter to control this behavior.\n",
            "  _warn_prf(average, modifier, msg_start, len(result))\n"
          ]
        }
      ]
    },
    {
      "cell_type": "code",
      "metadata": {
        "id": "PPTmO6seS4Ha"
      },
      "source": [],
      "execution_count": null,
      "outputs": []
    },
    {
      "cell_type": "code",
      "metadata": {
        "id": "zEfU5zJt1QJo"
      },
      "source": [
        "#Checking Accuracy For XGBOOST\n",
        "import xgboost as xgb\n",
        "xgbd = xgb.XGBClassifier(max_depth=10, n_estimators=5000 , learning_rate=.1, n_jobs=-1)"
      ],
      "execution_count": null,
      "outputs": []
    },
    {
      "cell_type": "code",
      "metadata": {
        "id": "xJSpgGpC1QJo",
        "outputId": "6042b7ad-f83f-4695-c140-7566ab2284e2"
      },
      "source": [
        "xgbd.fit(X_train, y_train)\n",
        "xgb_pred = xgbd.predict(X_test)\n",
        "xgb_acc=accuracy_score(y_test, xgb_pred)\n",
        "print(xgb_acc)"
      ],
      "execution_count": null,
      "outputs": [
        {
          "name": "stdout",
          "output_type": "stream",
          "text": [
            "[02:26:22] WARNING: C:/Users/Administrator/workspace/xgboost-win64_release_1.3.0/src/learner.cc:1061: Starting in XGBoost 1.3.0, the default evaluation metric used with the objective 'multi:softprob' was changed from 'merror' to 'mlogloss'. Explicitly set eval_metric if you'd like to restore the old behavior.\n",
            "0.9289902280130293\n"
          ]
        }
      ]
    },
    {
      "cell_type": "code",
      "metadata": {
        "id": "U2pSkhvyS4Hb",
        "outputId": "669b1bf6-716d-435f-d832-06bf02a9e149"
      },
      "source": [
        "print(classification_report(y_test, xgb_pred))"
      ],
      "execution_count": null,
      "outputs": [
        {
          "name": "stdout",
          "output_type": "stream",
          "text": [
            "              precision    recall  f1-score   support\n",
            "\n",
            "           1       0.00      0.00      0.00         2\n",
            "           2       0.91      0.88      0.89        33\n",
            "           3       0.92      0.95      0.93       170\n",
            "           4       0.89      0.89      0.89       134\n",
            "           5       0.90      0.85      0.87       136\n",
            "           6       0.89      0.90      0.89       251\n",
            "           7       0.95      0.98      0.97       756\n",
            "           8       0.95      0.70      0.80        53\n",
            "\n",
            "    accuracy                           0.93      1535\n",
            "   macro avg       0.80      0.77      0.78      1535\n",
            "weighted avg       0.93      0.93      0.93      1535\n",
            "\n"
          ]
        }
      ]
    },
    {
      "cell_type": "code",
      "metadata": {
        "id": "-XZcjylVS4Hb",
        "outputId": "b58c56cd-b6da-4156-f3ed-ce40d0fda817"
      },
      "source": [
        "from sklearn.metrics import confusion_matrix\n",
        "import seaborn as sns\n",
        "from sklearn.metrics import classification_report\n",
        "Ypred = xgb_pred\n",
        "label=['1', '2','3','4', '5','6','7','8']\n",
        "Ytrue = y_test \n",
        "cm = confusion_matrix(Ytrue, Ypred)\n",
        "plt.figure(figsize=(12, 12))\n",
        "plt.title(\"Confusion Matrix for XGBoost\")\n",
        "ax = sns.heatmap(cm, cmap=\"mako\", fmt=\".01f\",annot_kws={'size':16}, annot=True, square=True, xticklabels=label, yticklabels=label)\n",
        "ax.set_ylabel('Actual', fontsize=20)\n",
        "ax.set_xlabel('Predicted', fontsize=20)"
      ],
      "execution_count": null,
      "outputs": [
        {
          "data": {
            "text/plain": [
              "Text(0.5, 145.31999999999996, 'Predicted')"
            ]
          },
          "execution_count": 65,
          "metadata": {},
          "output_type": "execute_result"
        },
        {
          "data": {
            "image/png": "[encoded data removed]",
            "text/plain": [
              "<Figure size 864x864 with 2 Axes>"
            ]
          },
          "metadata": {
            "needs_background": "light"
          },
          "output_type": "display_data"
        }
      ]
    },
    {
      "cell_type": "code",
      "metadata": {
        "id": "PgQc7oBk1QJp",
        "outputId": "f7cf59e3-9723-4930-df90-806f41534bb8"
      },
      "source": [
        "#Checking Accuracy For Neural Network\n",
        "from sklearn.neural_network import MLPClassifier\n",
        "nnc = MLPClassifier(hidden_layer_sizes=(9),activation=\"relu\",max_iter=1000)\n",
        "nnc.fit(X_train, y_train)\n",
        "nnc_predictions =nnc.predict(X_test)\n",
        "nnc_acc=accuracy_score(y_test, nnc_predictions)\n",
        "print(nnc_acc)"
      ],
      "execution_count": null,
      "outputs": [
        {
          "name": "stdout",
          "output_type": "stream",
          "text": [
            "0.9615635179153095\n"
          ]
        },
        {
          "name": "stderr",
          "output_type": "stream",
          "text": [
            "I:\\Apps on HDD\\anaconda3\\lib\\site-packages\\sklearn\\neural_network\\_multilayer_perceptron.py:582: ConvergenceWarning: Stochastic Optimizer: Maximum iterations (1000) reached and the optimization hasn't converged yet.\n",
            "  warnings.warn(\n"
          ]
        }
      ]
    },
    {
      "cell_type": "code",
      "metadata": {
        "id": "usBkTrZ7S4Hc",
        "outputId": "be67bbf1-06c7-41c6-9015-9494d465c98f"
      },
      "source": [
        "print(classification_report(y_test, nnc_predictions))"
      ],
      "execution_count": null,
      "outputs": [
        {
          "name": "stdout",
          "output_type": "stream",
          "text": [
            "              precision    recall  f1-score   support\n",
            "\n",
            "           1       0.00      0.00      0.00         2\n",
            "           2       0.89      0.97      0.93        33\n",
            "           3       0.96      0.95      0.96       170\n",
            "           4       0.93      0.96      0.94       134\n",
            "           5       0.97      0.94      0.96       136\n",
            "           6       0.95      0.92      0.93       251\n",
            "           7       0.97      0.99      0.98       756\n",
            "           8       0.96      0.96      0.96        53\n",
            "\n",
            "    accuracy                           0.96      1535\n",
            "   macro avg       0.83      0.84      0.83      1535\n",
            "weighted avg       0.96      0.96      0.96      1535\n",
            "\n"
          ]
        }
      ]
    },
    {
      "cell_type": "code",
      "metadata": {
        "id": "_xQJaL81S4Hc",
        "outputId": "9873cc06-be72-4912-f035-31e3bdf2b356"
      },
      "source": [
        "from sklearn.metrics import confusion_matrix\n",
        "import seaborn as sns\n",
        "from sklearn.metrics import classification_report\n",
        "Ypred = nnc_predictions\n",
        "label=['1', '2','3','4', '5','6','7','8']\n",
        "Ytrue = y_test\n",
        "cm = confusion_matrix(Ytrue, Ypred)\n",
        "plt.figure(figsize=(12, 12))\n",
        "plt.title(\"Confusion Matrix for Neural Network\")\n",
        "ax = sns.heatmap(cm, cmap=\"rocket_r\", fmt=\".01f\",annot_kws={'size':16}, annot=True, square=True, xticklabels=label, yticklabels=label)\n",
        "ax.set_ylabel('Actual', fontsize=20)\n",
        "ax.set_xlabel('Predicted', fontsize=20)"
      ],
      "execution_count": null,
      "outputs": [
        {
          "data": {
            "text/plain": [
              "Text(0.5, 145.31999999999996, 'Predicted')"
            ]
          },
          "execution_count": 62,
          "metadata": {},
          "output_type": "execute_result"
        },
        {
          "data": {
            "image/png": "[encoded data removed]",
            "text/plain": [
              "<Figure size 864x864 with 2 Axes>"
            ]
          },
          "metadata": {
            "needs_background": "light"
          },
          "output_type": "display_data"
        }
      ]
    },
    {
      "cell_type": "code",
      "metadata": {
        "id": "_kop1ZMD1QJp"
      },
      "source": [
        "#StackingClassifier final_estimator=randomforest\n",
        "from sklearn.model_selection import GridSearchCV\n",
        "estimators = [('rf', randomf),('neural', nnc),\n",
        "        ('knn',knn)\n",
        "        ]\n",
        "from sklearn.ensemble import StackingClassifier\n",
        "final_estimator = {'final_estimator':[randomf,nnc,knn,None]}"
      ],
      "execution_count": null,
      "outputs": []
    },
    {
      "cell_type": "code",
      "metadata": {
        "id": "Krg8dJFc1QJp"
      },
      "source": [
        "from sklearn.metrics import confusion_matrix\n",
        "from sklearn.preprocessing import LabelBinarizer\n",
        "from sklearn.model_selection import train_test_split"
      ],
      "execution_count": null,
      "outputs": []
    },
    {
      "cell_type": "code",
      "metadata": {
        "id": "icKuZFhg1QJq"
      },
      "source": [
        "newgsearchrandom =  StackingClassifier(estimators=estimators, n_jobs=-1,final_estimator=randomf)"
      ],
      "execution_count": null,
      "outputs": []
    },
    {
      "cell_type": "code",
      "metadata": {
        "colab": {
          "base_uri": "https://localhost:8080/"
        },
        "id": "sMAIsrCS1QJq",
        "outputId": "11b4ef68-ea81-43bb-9cee-f1eaed63de31"
      },
      "source": [
        "newgsearchrandom.fit(X_train, y_train)"
      ],
      "execution_count": null,
      "outputs": [
        {
          "data": {
            "text/plain": [
              "StackingClassifier(estimators=[('rf', RandomForestClassifier(n_jobs=-1)),\n",
              "                               ('neural',\n",
              "                                MLPClassifier(hidden_layer_sizes=9,\n",
              "                                              max_iter=1000)),\n",
              "                               ('knn', KNeighborsClassifier(n_neighbors=20))],\n",
              "                   final_estimator=RandomForestClassifier(n_jobs=-1),\n",
              "                   n_jobs=-1)"
            ]
          },
          "execution_count": 35,
          "metadata": {},
          "output_type": "execute_result"
        }
      ]
    },
    {
      "cell_type": "code",
      "metadata": {
        "colab": {
          "base_uri": "https://localhost:8080/"
        },
        "id": "aEhHGVH11QJq",
        "outputId": "56fbc623-d04a-4ddf-a5d2-afb6d561f7da"
      },
      "source": [
        "newgsearchrandom_pred = newgsearchrandom.predict(X_test)\n",
        "newgsearchrandom_acc=accuracy_score(y_test, newgsearchrandom_pred)\n",
        "print(newgsearchrandom_acc)"
      ],
      "execution_count": null,
      "outputs": [
        {
          "name": "stdout",
          "output_type": "stream",
          "text": [
            "0.958957654723127\n"
          ]
        }
      ]
    },
    {
      "cell_type": "code",
      "metadata": {
        "id": "-Iv-zb9OS4He",
        "outputId": "0a0c89cd-accb-4391-95fd-0bbcd71de4cb"
      },
      "source": [
        "print(classification_report(y_test, newgsearchrandom_pred))"
      ],
      "execution_count": null,
      "outputs": [
        {
          "name": "stdout",
          "output_type": "stream",
          "text": [
            "              precision    recall  f1-score   support\n",
            "\n",
            "           1       0.00      0.00      0.00         2\n",
            "           2       0.82      0.97      0.89        33\n",
            "           3       0.96      0.95      0.96       170\n",
            "           4       0.93      0.94      0.93       134\n",
            "           5       0.95      0.93      0.94       136\n",
            "           6       0.92      0.96      0.94       251\n",
            "           7       0.99      0.97      0.98       756\n",
            "           8       0.94      0.94      0.94        53\n",
            "\n",
            "    accuracy                           0.96      1535\n",
            "   macro avg       0.81      0.83      0.82      1535\n",
            "weighted avg       0.96      0.96      0.96      1535\n",
            "\n"
          ]
        }
      ]
    },
    {
      "cell_type": "code",
      "metadata": {
        "id": "uX_3_Zyx1QJs",
        "outputId": "05c8872d-2e50-4eda-ea82-1f035519259b"
      },
      "source": [
        "from sklearn.metrics import confusion_matrix\n",
        "import seaborn as sns\n",
        "from sklearn.metrics import classification_report\n",
        "Ypred = newgsearchrandom_pred\n",
        "label=['1', '2','3','4', '5','6','7','8']\n",
        "Ytrue = y_test\n",
        "cm = confusion_matrix(Ytrue, Ypred)\n",
        "plt.figure(figsize=(12, 12))\n",
        "plt.title(\"Confusion Matrix for Random Forest as Final Estimator\")\n",
        "ax = sns.heatmap(cm, cmap=\"rocket_r\", fmt=\".01f\",annot_kws={'size':16}, annot=True, square=True, xticklabels=label, yticklabels=label)\n",
        "ax.set_ylabel('Actual', fontsize=20)\n",
        "ax.set_xlabel('Predicted', fontsize=20)"
      ],
      "execution_count": null,
      "outputs": [
        {
          "data": {
            "text/plain": [
              "Text(0.5, 145.31999999999996, 'Predicted')"
            ]
          },
          "execution_count": 61,
          "metadata": {},
          "output_type": "execute_result"
        },
        {
          "data": {
            "image/png": "[encoded data removed]",
            "text/plain": [
              "<Figure size 864x864 with 2 Axes>"
            ]
          },
          "metadata": {
            "needs_background": "light"
          },
          "output_type": "display_data"
        }
      ]
    },
    {
      "cell_type": "code",
      "metadata": {
        "id": "i6JAjO7tS4He"
      },
      "source": [
        "#StackingClassifier final_estimator=Neural\n",
        "newgsearchnnc =  StackingClassifier(estimators=estimators, n_jobs=-1,final_estimator=nnc)\n",
        "newgsearchnnc.fit(X_train, y_train)\n",
        "newgsearchnnc_pred = newgsearchnnc.predict(X_test)\n",
        "newgsearchnnc_acc=accuracy_score(y_test, newgsearchnnc_pred)\n",
        "print(newgsearchnnc_acc)"
      ],
      "execution_count": null,
      "outputs": []
    },
    {
      "cell_type": "code",
      "metadata": {
        "id": "pwNBhaKkS4He",
        "outputId": "f6bfef96-2293-4a4a-f307-2df950ac776b"
      },
      "source": [
        "print(classification_report(y_test, newgsearchnnc_pred))"
      ],
      "execution_count": null,
      "outputs": [
        {
          "name": "stdout",
          "output_type": "stream",
          "text": [
            "              precision    recall  f1-score   support\n",
            "\n",
            "           1       0.00      0.00      0.00         2\n",
            "           2       0.89      0.97      0.93        33\n",
            "           3       0.96      0.96      0.96       170\n",
            "           4       0.94      0.94      0.94       134\n",
            "           5       0.96      0.96      0.96       136\n",
            "           6       0.95      0.94      0.95       251\n",
            "           7       0.99      0.98      0.98       756\n",
            "           8       0.93      1.00      0.96        53\n",
            "\n",
            "    accuracy                           0.97      1535\n",
            "   macro avg       0.83      0.84      0.83      1535\n",
            "weighted avg       0.97      0.97      0.97      1535\n",
            "\n"
          ]
        }
      ]
    },
    {
      "cell_type": "code",
      "metadata": {
        "id": "wHEQRui7S4He",
        "outputId": "8eb7e096-0be4-46be-de93-1aff7ce3e22d"
      },
      "source": [
        "from sklearn.metrics import confusion_matrix\n",
        "import seaborn as sns\n",
        "from sklearn.metrics import classification_report\n",
        "Ypred = newgsearchnnc_pred\n",
        "label=['1', '2','3','4', '5','6','7','8']\n",
        "Ytrue = y_test\n",
        "cm = confusion_matrix(Ytrue, Ypred)\n",
        "plt.figure(figsize=(12, 12))\n",
        "plt.title(\"Confusion Matrix for Neural Network as Final Estimator\")\n",
        "ax = sns.heatmap(cm, cmap=\"rocket_r\", fmt=\".01f\",annot_kws={'size':16}, annot=True, square=True, xticklabels=label, yticklabels=label)\n",
        "ax.set_ylabel('Actual', fontsize=20)\n",
        "ax.set_xlabel('Predicted', fontsize=20)"
      ],
      "execution_count": null,
      "outputs": [
        {
          "data": {
            "text/plain": [
              "Text(0.5, 145.31999999999996, 'Predicted')"
            ]
          },
          "execution_count": 63,
          "metadata": {},
          "output_type": "execute_result"
        },
        {
          "data": {
            "image/png": "[encoded data removed]",
            "text/plain": [
              "<Figure size 864x864 with 2 Axes>"
            ]
          },
          "metadata": {
            "needs_background": "light"
          },
          "output_type": "display_data"
        }
      ]
    },
    {
      "cell_type": "code",
      "metadata": {
        "id": "n-tGt1F2S4Hf"
      },
      "source": [
        "#StackingClassifier final_estimator=KNN\n",
        "newgsearchknn =  StackingClassifier(estimators=estimators, n_jobs=-1,final_estimator=knn)\n",
        "newgsearchknn.fit(X_train, y_train)\n",
        "newgsearchknn_pred = newgsearchknn.predict(X_test)\n",
        "newgsearchknn_acc=accuracy_score(y_test, newgsearchknn_pred)\n",
        "print(newgsearchknn_acc)"
      ],
      "execution_count": null,
      "outputs": []
    },
    {
      "cell_type": "code",
      "metadata": {
        "id": "IZUwUA0BS4Hf",
        "outputId": "8754e1e9-d642-41d2-cf0a-a619704e1f0f"
      },
      "source": [
        "print(classification_report(y_test, newgsearchknn_pred))"
      ],
      "execution_count": null,
      "outputs": [
        {
          "name": "stdout",
          "output_type": "stream",
          "text": [
            "              precision    recall  f1-score   support\n",
            "\n",
            "           1       0.00      0.00      0.00         2\n",
            "           2       0.86      0.97      0.91        33\n",
            "           3       0.95      0.97      0.96       170\n",
            "           4       0.95      0.93      0.94       134\n",
            "           5       0.96      0.97      0.97       136\n",
            "           6       0.91      0.97      0.94       251\n",
            "           7       0.99      0.96      0.98       756\n",
            "           8       0.92      0.92      0.92        53\n",
            "\n",
            "    accuracy                           0.96      1535\n",
            "   macro avg       0.82      0.84      0.83      1535\n",
            "weighted avg       0.96      0.96      0.96      1535\n",
            "\n"
          ]
        }
      ]
    },
    {
      "cell_type": "code",
      "metadata": {
        "id": "eCbeRvtVS4Hf",
        "outputId": "77749ed7-5bc7-4477-9b2e-224435072482"
      },
      "source": [
        "from sklearn.metrics import confusion_matrix\n",
        "import seaborn as sns\n",
        "from sklearn.metrics import classification_report\n",
        "Ypred = newgsearchknn_pred \n",
        "label=['1', '2','3','4', '5','6','7','8']\n",
        "Ytrue = y_test\n",
        "cm = confusion_matrix(Ytrue, Ypred)\n",
        "plt.figure(figsize=(12, 12))\n",
        "plt.title(\"Confusion Matrix for KNN as Final Estimator\")\n",
        "ax = sns.heatmap(cm, cmap=\"rocket_r\", fmt=\".01f\",annot_kws={'size':16}, annot=True, square=True, xticklabels=label, yticklabels=label)\n",
        "ax.set_ylabel('Actual', fontsize=20)\n",
        "ax.set_xlabel('Predicted', fontsize=20)"
      ],
      "execution_count": null,
      "outputs": [
        {
          "data": {
            "text/plain": [
              "Text(0.5, 145.31999999999996, 'Predicted')"
            ]
          },
          "execution_count": 59,
          "metadata": {},
          "output_type": "execute_result"
        },
        {
          "data": {
            "image/png": "[encoded data removed]",
            "text/plain": [
              "<Figure size 864x864 with 2 Axes>"
            ]
          },
          "metadata": {
            "needs_background": "light"
          },
          "output_type": "display_data"
        }
      ]
    },
    {
      "cell_type": "code",
      "metadata": {
        "id": "pRYvT3yES4Hg"
      },
      "source": [],
      "execution_count": null,
      "outputs": []
    }
  ]
}